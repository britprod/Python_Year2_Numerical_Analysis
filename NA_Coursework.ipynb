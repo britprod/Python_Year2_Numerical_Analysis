{
 "cells": [
  {
   "cell_type": "markdown",
   "metadata": {},
   "source": [
    "# M231 Numerical Analysis\n",
    "\n",
    "## Coursework (worth 20% of overall module mark)\n",
    "\n",
    "\n",
    "### Instructions\n",
    "\n",
    "- Answer all questions.\n",
    "- There are 100 marks available.\n",
    "- You can work in small groups (maximum size of 3). You are not required to work with others if you prefer to work alone. Please avoid discussing the coursework with others outside your chosen group. All submissions will be checked for plagiarism (including collusion with other groups). If you choose to work in a group, every group member must contribute to the work.\n",
    "- Aim to make your code clear and well commented.\n",
    "- Create additional markdown cells as needed to add brief explanations of your working.\n",
    "- Full marks will be given for working code that is as efficient as possible (think about function evaluations!).\n",
    "\n",
    "One group member needs to upload your edited version of this notebook to the Moodle dropbox by 11pm on Friday 6th December. Your notebook should be submitted as a file named\n",
    "\n",
    "'M231_CW_xxxxxx.ipynb'\n",
    "\n",
    "where `xxxxxx` is replaced by the 6-digit student number of the group member uploading the coursework.  Marks will be lost if you do not name this file correctly.\n",
    "\n",
    "Please include the student numbers of all those in your group in the cell below (double click to edit):"
   ]
  },
  {
   "cell_type": "markdown",
   "metadata": {},
   "source": [
    "**Group Members** (student numbers only): Individual Work \n",
    "\n",
    "\n"
   ]
  },
  {
   "cell_type": "markdown",
   "metadata": {},
   "source": [
    "### <font color=\"red\">Please press Shift+Enter to evaluate code cells and format markdown cells (if necessary). </font>"
   ]
  },
  {
   "cell_type": "markdown",
   "metadata": {},
   "source": [
    "# Part 1 (20 marks)"
   ]
  },
  {
   "cell_type": "markdown",
   "metadata": {},
   "source": [
    "Let us consider an alternative method to find roots of a function $f$ in an interval $[a, b]$ similar to the bisection method.\n",
    "\n",
    "Assuming that $f(a)f(b) < 0$, this method determines a new point $x_m$ as the intersection of the straight line connecting $(a, f(a))$ and $(b, f(b))$ with the $x$-axis:\n",
    "\n",
    "$$ x_m=\\frac{f(a)b-f(b)a}{f(a)-f(b)}.$$\n",
    "\n",
    "How it continues depends on the sign of $f(x_m)$:\n",
    "\n",
    "Case (a): $f(x_m)$ has the same sign as $f(a)$: in this case the new\n",
    "lower bound $a$ is $x_m$ and $b$ stays the same.\n",
    "\n",
    "Case (b): $f(x_m)$ has the same sign as $f(b)$: in this case the new upper bound $b$ is $x_m$ and $a$ stays the same.\n",
    "\n",
    "Case (0): $f(x_m)=0$: $x_m$ is a root, stop and return $x_m$\n",
    "\n",
    "Write a function to implemement this method. An outline is provided below, the inputs are as follows:\n",
    "\n",
    "$f:$ a function of a single variable.  \t\n",
    "\n",
    "$a:$ initial lower bound for the root of $f$;\n",
    " \n",
    "$b:$ initial upper bound for the root of $f$; the root of $f$ is to be found between $a$ and $b$;\n",
    " \n",
    "$N:$ (a positive integer): the iteration should stop as soon as the number of iterations reaches $N$;\n",
    " \n",
    "tol: tolerance; the iteration should stop if $|f(x_m)|<tol$ where tol is a small positive number.\n",
    "\n",
    "\n",
    "Your code should __return__ four outputs:\n",
    "- the most recent value of $x_m$ (first output)\n",
    "- the total number of iterations (second output)\n",
    "- how many times the left boundary and right boundary were updated respectively (third and fourth output). \n",
    "\n",
    "You should include statements to let the user know why the code is stopping, such as \"max number of iterations reached\" or \"tolerance reached\".\n"
   ]
  },
  {
   "cell_type": "code",
   "execution_count": 1,
   "metadata": {
    "collapsed": true
   },
   "outputs": [],
   "source": [
    "def findroot(f,a,b,N,tol):\n",
    "    lbound=0 #counter for left boundary\n",
    "    rbound=0 #counter for right boundary\n",
    "    if f(a)*f(b)>=0: #based on assumption that f(a) and f(b) have different signs and a or b is not a root.\n",
    "        return False\n",
    "    for k in range(N): # 0 to (N-1) iterations, as we want an output (xm) of kth iteration\n",
    "        xm=(f(a)*b-f(b)*a)/(f(a)-f(b)) \n",
    "        if abs(f(xm))<tol: # tolerance reached\n",
    "            print ('tolerance reached')\n",
    "            break # breaking loop\n",
    "        elif f(xm)*f(a)>0:# f(xm) and f(a) have same signs \n",
    "            a=xm #new a\n",
    "            lbound+=1 #a changed, counter updated by 1   \n",
    "        elif f(xm)*f(b)>0:\n",
    "            b=xm\n",
    "            rbound+=1\n",
    "        else: #f(xm)==0,  case when tolerance is 10^(-15)(Python rounding) and the number of iterations is sufficiently high \n",
    "            print ('f(xm) is approx. zero, correct to 15 decimal places')\n",
    "            break  \n",
    "    if k==N-1:#  number of iteration reached \n",
    "        xm=(f(a)*b-f(b)*a)/(f(a)-f(b)) # calculates output of last iteration\n",
    "        k+=1 #Within the loop, the input for every iteration(new a or b) was calculated N times, but the output only N-1 times, we need to update k \n",
    "        print ('max number of iteration reached')\n",
    "    return xm, k, lbound, rbound"
   ]
  },
  {
   "cell_type": "markdown",
   "metadata": {},
   "source": [
    "# Part 2 (10 marks)"
   ]
  },
  {
   "cell_type": "markdown",
   "metadata": {},
   "source": [
    "The function\n",
    "\n",
    "$$f(x)=x^4+3x^2+2^x-4.$$\n",
    "\n",
    "has a root in the interval $[0,2]$. \n",
    "\n",
    "**(a)** Define this function and then call your __findroot__ function above to approximate this root. You may use $tol = 10^{-10}$ and $N = 100$. (**6 marks**) \n",
    "\n",
    "**(b)** Comment briefly on the output. (**4marks**)\n"
   ]
  },
  {
   "cell_type": "code",
   "execution_count": 2,
   "metadata": {},
   "outputs": [
    {
     "name": "stdout",
     "output_type": "stream",
     "text": [
      "tolerance reached\n"
     ]
    },
    {
     "data": {
      "text/plain": [
       "(0.7911522700872781, 60, 60, 0)"
      ]
     },
     "execution_count": 2,
     "metadata": {},
     "output_type": "execute_result"
    }
   ],
   "source": [
    "def f(x):\n",
    "    return x**4+3*x**2+2**x-4\n",
    "findroot(f,0,2,100,10**(-10))"
   ]
  },
  {
   "cell_type": "markdown",
   "metadata": {},
   "source": [
    "**Answer part 2(b) :** The function has returned an approximated value of the root $0.7911522700872781$. It took **60 iterations** to approximate root within specified tolerance for f(xm). Only the left boundary was updated **(60 times)**. The derivative of f is $4x^3+6x+2^xln(2)$ which is positive, meaning that the function is increasing, so there is only one real root on the given interval."
   ]
  },
  {
   "cell_type": "markdown",
   "metadata": {},
   "source": [
    "# Part 3 Graphs (15 marks)"
   ]
  },
  {
   "cell_type": "markdown",
   "metadata": {},
   "source": [
    "**(a)** (**5 marks**)\n",
    "Define a function __function_graph__ so that it has 4 inputs:\n",
    "- g, a function with one numerical input that returns a numerical output.\n",
    "- a, a numerical variable, either int or float.\n",
    "- b, a numerical variable, either int or float.\n",
    "- n, an int. \n",
    "\n",
    "Your function should produce a graph of function $g$ on the interval $[a, b]$, use $n$ to produce the list of arguments of the function $g$, that is, $n$ equally spaced points from the interval $[a, b]$ that start with $a$ and end with $b$.\n",
    "\n",
    "Use __function_graph__  to produce a graph of the function $f$ from Part 2 on the interval [0, 2].\n"
   ]
  },
  {
   "cell_type": "code",
   "execution_count": 3,
   "metadata": {
    "collapsed": true
   },
   "outputs": [],
   "source": [
    "import numpy as np\n",
    "import matplotlib.pyplot as plt\n",
    "\n",
    "def function_graph(g,a,b,n):\n",
    "    plt.title('Graph of f on the interval [0,2]') #title\n",
    "    arguments = np.linspace(a,b,n) #defines the list of arguments applied to function, n equally spaced points from the interval [a,b]\n",
    "    values = g(arguments) #set of values evaluated at every argument for given function\n",
    "    plt.plot(arguments,values,label = 'f(x)') # plots graph of arguments against values, adds label\n",
    "    plt.legend() # shows legend\n",
    "    plt.show()"
   ]
  },
  {
   "cell_type": "code",
   "execution_count": 4,
   "metadata": {},
   "outputs": [
    {
     "data": {
      "image/png": "[encoded data removed]",
      "text/plain": [
       "<matplotlib.figure.Figure at 0x16faa857860>"
      ]
     },
     "metadata": {},
     "output_type": "display_data"
    }
   ],
   "source": [
    "function_graph(f,0,2,100)"
   ]
  },
  {
   "cell_type": "markdown",
   "metadata": {},
   "source": [
    "**(b)** (**10 marks**) Copy your function __findroot__ below and adapt it to collect and return all the values of $a$ and $b$ that are obtained through the iterative process, see Case (a) and Case (b) in Part 1. \n",
    "\n",
    "Create a function __convergence_graph__ with three inputs\n",
    "- list of all $a$-values obtained from the modified findroot function.\n",
    "- list of all $b$-values obtained from the modified findroot function. \n",
    "- the root of the function $f$ from Part 2, obtained from the modified findroot function.\n",
    "\n",
    "Your function should plot all values for $a$ and $b$ obtained from your modified findroot function together with the solution (root) to illustrate the convergence of the bounds (or one bound $a$ or $b$) to the desired solution (root). This should be a visual representation of your answer to Part 2(b). \n"
   ]
  },
  {
   "cell_type": "code",
   "execution_count": 5,
   "metadata": {
    "collapsed": true
   },
   "outputs": [],
   "source": [
    "def findroot(f,a,b,N,tol):\n",
    "    lbound=0 #counter for left boundary\n",
    "    rbound=0 #counter for right boundary\n",
    "    a_values = [a] #list for a-values, starting with a\n",
    "    b_values = [b] #list for b-values, starting with b\n",
    "    if f(a)*f(b)>=0: #based on assumption that f(a) and f(b) have different signs and a or b is not a root.\n",
    "        return False\n",
    "    for k in range (N): # 0 to (N-1) iterations, as we want an output (xm) of kth iteration\n",
    "        xm=(f(a)*b-f(b)*a)/(f(a)-f(b)) \n",
    "        # now it calculates input for the first iteration, 2nd, 3rd and so on.\n",
    "        if abs(f(xm))<tol: # tolerance reached\n",
    "            print ('tolerance reached')\n",
    "            break # breaking loop\n",
    "        elif f(xm)*f(a)>0:# same signs \n",
    "            a=xm #new a\n",
    "            lbound+=1 #a changed, counter updated by 1  \n",
    "        elif f(xm)*f(b)>0:\n",
    "            b=xm\n",
    "            rbound+=1\n",
    "        else: #f(xm)=0,  case when tolerance is 10^(-15)(Python rounding) and the number of iterations is sufficiently high \n",
    "            print ('f(xm) is approx. zero, correct to 15 decimal places')\n",
    "            break\n",
    "        a_values.append(a) #adds new 'a' to the list\n",
    "        b_values.append(b)\n",
    "    if k==N-1:#  number of iteration reached \n",
    "        xm=(f(a)*b-f(b)*a)/(f(a)-f(b))# calculates output of last iteration\n",
    "        k=k+1 #Within the loop, the input for every iteration(new a or b) was calculated N times, but the output only N-1 times, we need to update k\n",
    "        print ('max number of iteration reached')\n",
    "    return xm, k, lbound, rbound, a_values, b_values"
   ]
  },
  {
   "cell_type": "code",
   "execution_count": 6,
   "metadata": {
    "collapsed": true
   },
   "outputs": [],
   "source": [
    "def convergence_graph(a_values,b_values,xm):\n",
    "    plt.title('Convergence of the bounds')#title\n",
    "    A=len(a_values) #length of the list, both lists have same length\n",
    "    x_vals=np.arange(A)#sequence of A evenly spaced values from 0 to A-1, stored as an array object.\n",
    "    root_line=[]              #\n",
    "    for i in range (A):       # creates the list of root values, same length as a_values and b_values\n",
    "        root_line.append(xm)  #\n",
    "    plt.plot(x_vals,a_values,label='a convergence')# plots graph of a_values against x_vals\n",
    "    plt.plot(x_vals,b_values,label='b convergence') \n",
    "    plt.plot(x_vals,root_line,'--',color='black',label='root')#plots black dashed root line\n",
    "    plt.legend()\n",
    "    plt.show()"
   ]
  },
  {
   "cell_type": "code",
   "execution_count": 7,
   "metadata": {},
   "outputs": [
    {
     "name": "stdout",
     "output_type": "stream",
     "text": [
      "tolerance reached\n"
     ]
    },
    {
     "data": {
      "image/png": "[encoded data removed]",
      "text/plain": [
       "<matplotlib.figure.Figure at 0x16facb50390>"
      ]
     },
     "metadata": {},
     "output_type": "display_data"
    }
   ],
   "source": [
    "xm, k, lbound, rbound,a_values, b_values = findroot(f,0,2,100,10**(-10))\n",
    "convergence_graph(a_values,b_values,xm)"
   ]
  },
  {
   "cell_type": "markdown",
   "metadata": {},
   "source": [
    "# Part 4 (40 marks)"
   ]
  },
  {
   "cell_type": "markdown",
   "metadata": {
    "collapsed": true
   },
   "source": [
    "An improvement to this method can be obtained by following exactly the same procedure as above but modifying the equation for $x_m$ slightly:\n",
    "\n",
    "$$\n",
    "x_m = \\frac{w_af(a)b-w_bf(b)a}{w_af(a)-w_bf(b)}\n",
    "$$\n",
    "\n",
    "where $w_a$ and $w_b$ are referred to as weights. Initially we set $w_a = w_b=1$, then in later stages they are set as follows:\n",
    "\n",
    "- if the previous $k \\geq 2$ iterations all were of Case (a) then $w_b = 2^{1-k}$ and $w_a = 1$\n",
    "- if the previous $k \\geq 2$ iterations all were of Case (b) then $w_a = 2^{1-k}$ and $w_b = 1$\n",
    "- otherwise $w_a = w_b = 1$\n",
    "\n",
    "So, for example, if you have moved up the lower boundary $a$  $k \\geq 2$ times  in a row without changing the upper boundary $b$ then one downweighs the function value $f(b)$ by a factor of $\\frac{1}{2^{k-1}}.$  \n",
    "\n",
    "\n",
    "Write a function to implemement this method. An outline is provided below, the inputs are as in Part 1. \n",
    "\n",
    "As before, your code should __return__ six outputs:\n",
    "- the most recent value of $x_m$ (first output)\n",
    "- the total number of iterations (second output)\n",
    "- how many times the left boundary and right boundary were updated respectively (third and fourth output)\n",
    "- the paths taken by a and b.\n",
    "\n",
    "You should include statements to let the user know why the code is stopping, such as \"max number of iterations reached\" or \"tolerance reached\"."
   ]
  },
  {
   "cell_type": "code",
   "execution_count": 8,
   "metadata": {
    "collapsed": true
   },
   "outputs": [],
   "source": [
    "def Modfindroot(f,a,b,N,tol):\n",
    "    lbound=0 #counter for left boundary\n",
    "    rbound=0 #counter for right boundary\n",
    "    a_values = [a] #list for a-values, starting with a\n",
    "    b_values = [b] #list for b-values, starting with b\n",
    "    wa=1 \n",
    "    wb=1\n",
    "    a_counter=0 #counter of how many times 'a' was updated in a row \n",
    "    b_counter=0 #counter of how many times 'b' was updated in a row\n",
    "    if f(a)*f(b)>=0: #based on assumption that f(a) and f(b) have different signs and a or b is not a root.\n",
    "        return False\n",
    "    for k in range(N): # 0 to (N-1) iterations, as we want an output (xm) of kth iteration\n",
    "        xm=(wa*f(a)*b-wb*f(b)*a)/(wa*f(a)-wb*f(b))\n",
    "        if abs(f(xm))<tol: # tolerance reached\n",
    "            print ('tolerance reached')\n",
    "            break # breaking loop\n",
    "        elif f(xm)*f(a)>0:# same signs \n",
    "            a=xm #new a\n",
    "            lbound+=1 # a changed, counter updated by 1\n",
    "            b_counter=0 # resets b_counter, because 'a' was updated\n",
    "            wa=1               \n",
    "            a_counter+=1 # updates a_counter, adding 1\n",
    "            wb=2**(1-a_counter) # lbound changed at least twice in a row(note:2^(1-1)=1)\n",
    "        elif f(xm)*f(b)>0:\n",
    "            b=xm\n",
    "            rbound+=1            \n",
    "            a_counter=0\n",
    "            wb=1\n",
    "            b_counter+=1\n",
    "            wa=2**(1-b_counter)\n",
    "        else: #f(xm)=0,  case when tolerance is 10^(-15)(Python rounding) and the number of iterations is sufficiently high \n",
    "            print ('f(xm) is approx. zero, correct to 15 decimal places')\n",
    "            break\n",
    "        a_values.append(a)#adds new 'a' to the list\n",
    "        b_values.append(b)\n",
    "    if k==N-1:#  number of iteration reached \n",
    "        xm=(wa*f(a)*b-wb*f(b)*a)/(wa*f(a)-wb*f(b))# calculates output of last iteration\n",
    "        k+=1 #Within the loop, the input for every iteration(new a or b) was calculated N times, but the output only N-1 times, we need to update k\n",
    "        print ('max number of iteration reached')\n",
    "    return xm, k, lbound, rbound, a_values, b_values"
   ]
  },
  {
   "cell_type": "markdown",
   "metadata": {},
   "source": [
    "# Part 5 (15 marks)"
   ]
  },
  {
   "cell_type": "markdown",
   "metadata": {},
   "source": [
    "**(a)** **(4 marks)**"
   ]
  },
  {
   "cell_type": "markdown",
   "metadata": {},
   "source": [
    "Call your new root finding function with $f$ as defined in Part 2 to print the root. "
   ]
  },
  {
   "cell_type": "code",
   "execution_count": 9,
   "metadata": {},
   "outputs": [
    {
     "name": "stdout",
     "output_type": "stream",
     "text": [
      "tolerance reached\n",
      "0.7911522700969118\n"
     ]
    }
   ],
   "source": [
    "xm, k, lbound, rbound, a_values, b_values = Modfindroot(f,0,2,100,10**(-10))\n",
    "print(xm) "
   ]
  },
  {
   "cell_type": "markdown",
   "metadata": {},
   "source": [
    "Also, number of iterations ,and number of times left and right boundaries have been updated:"
   ]
  },
  {
   "cell_type": "code",
   "execution_count": 10,
   "metadata": {},
   "outputs": [
    {
     "name": "stdout",
     "output_type": "stream",
     "text": [
      "8 6 2\n"
     ]
    }
   ],
   "source": [
    "print(k, lbound, rbound)"
   ]
  },
  {
   "cell_type": "markdown",
   "metadata": {},
   "source": [
    "**(b)** **(6 marks)**"
   ]
  },
  {
   "cell_type": "markdown",
   "metadata": {},
   "source": [
    "Compare the output of these two root finding methods, that is, the methods from Part 1 and Part 4."
   ]
  },
  {
   "cell_type": "markdown",
   "metadata": {},
   "source": [
    "**Answer part (b)**  __Modfindroot__ returns a value that is very close to the value in __findroot__. In fact, they agree to 10 decimal places.  The output of modified method converges much quicker to the root within specified tolerance for $f(xm)$. Taking only 8 iterations, the former method takes 7 and a half times as many iterations as the modified version. Comparing the graphs of these two finding methods, output of __findroot__ is near the root after roughly 10 iterations, however 60 are required, the modified version is near the root after just 3 iterations. Also , in this case, while the __findroot__ has only adjusted the left boundary,  __Modfindroot__ has six left and two right adjustments. "
   ]
  },
  {
   "cell_type": "markdown",
   "metadata": {},
   "source": [
    "**(c)** **(5 marks)** "
   ]
  },
  {
   "cell_type": "markdown",
   "metadata": {},
   "source": [
    "Plot a convergence graph for the new method, that is, how the bounds $a$ and $b$ approach the root. Use __convergence_graph__ function from Part 3 (b)."
   ]
  },
  {
   "cell_type": "code",
   "execution_count": 11,
   "metadata": {},
   "outputs": [
    {
     "data": {
      "image/png": "[encoded data removed]",
      "text/plain": [
       "<matplotlib.figure.Figure at 0x16facc912e8>"
      ]
     },
     "metadata": {},
     "output_type": "display_data"
    }
   ],
   "source": [
    "convergence_graph(a_values,b_values,xm)"
   ]
  },
  {
   "cell_type": "code",
   "execution_count": null,
   "metadata": {
    "collapsed": true
   },
   "outputs": [],
   "source": []
  }
 ],
 "metadata": {
  "kernelspec": {
   "display_name": "Python 3 (ipykernel)",
   "language": "python",
   "name": "python3"
  },
  "language_info": {
   "codemirror_mode": {
    "name": "ipython",
    "version": 3
   },
   "file_extension": ".py",
   "mimetype": "text/x-python",
   "name": "python",
   "nbconvert_exporter": "python",
   "pygments_lexer": "ipython3",
   "version": "3.9.12"
  }
 },
 "nbformat": 4,
 "nbformat_minor": 2
}
